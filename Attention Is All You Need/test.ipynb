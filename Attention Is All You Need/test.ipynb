{
 "cells": [
  {
   "cell_type": "code",
   "execution_count": 1,
   "metadata": {},
   "outputs": [],
   "source": [
    "import torch\n",
    "from Model import Encoder, Decoder"
   ]
  },
  {
   "cell_type": "code",
   "execution_count": 2,
   "metadata": {},
   "outputs": [],
   "source": [
    "input = torch.randint(0, 37000, (50, 100))\n",
    "output = torch.randint(0, 37000, (50, 100))"
   ]
  },
  {
   "cell_type": "code",
   "execution_count": 3,
   "metadata": {},
   "outputs": [
    {
     "name": "stdout",
     "output_type": "stream",
     "text": [
      "torch.Size([50, 100, 512])\n"
     ]
    }
   ],
   "source": [
    "encoder = Encoder()\n",
    "encoder_result = encoder(input)\n",
    "print(encoder_result.shape)\n",
    "# expect shape (50, 100, 512) -> (batch, length, embedding size)"
   ]
  },
  {
   "cell_type": "code",
   "execution_count": 4,
   "metadata": {},
   "outputs": [
    {
     "name": "stdout",
     "output_type": "stream",
     "text": [
      "torch.Size([50, 100, 37000])\n"
     ]
    }
   ],
   "source": [
    "decoder = Decoder()\n",
    "decoder_result = decoder(output, encoder_result)\n",
    "print(decoder_result.shape)\n",
    "# expect shape (50, 100, 37000) -> (batch, length, vocab_size)"
   ]
  }
 ],
 "metadata": {
  "kernelspec": {
   "display_name": "base",
   "language": "python",
   "name": "python3"
  },
  "language_info": {
   "codemirror_mode": {
    "name": "ipython",
    "version": 3
   },
   "file_extension": ".py",
   "mimetype": "text/x-python",
   "name": "python",
   "nbconvert_exporter": "python",
   "pygments_lexer": "ipython3",
   "version": "3.12.7"
  }
 },
 "nbformat": 4,
 "nbformat_minor": 2
}
